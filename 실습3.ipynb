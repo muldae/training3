{
 "cells": [
  {
   "cell_type": "markdown",
   "metadata": {},
   "source": [
    "## 두 개의 자연수를 입력 받아서 나눗셈을 하는 Python code 를 작성한다. 이 때, 입력 오류, 계산 오류에 대한 예외처리를 구현한다."
   ]
  },
  {
   "cell_type": "markdown",
   "metadata": {},
   "source": [
    "### 먼저 입력 오류에 대한 예외처리를 먼저 구현합니다."
   ]
  },
  {
   "cell_type": "code",
   "execution_count": null,
   "metadata": {},
   "outputs": [],
   "source": [
    "try:\n",
    "  a, b  = map(int, input(\"숫자 두개를 입력해주세요\").split())\n",
    "\n",
    "except:\n",
    "  print(\"숫자를 입력해주세요\")"
   ]
  },
  {
   "cell_type": "markdown",
   "metadata": {},
   "source": [
    "### 그 다음 else 구문에서 계산 오류에 대한 예외처리를 구현합니다\n",
    "\n",
    "계산은 입력의 오류가 나지 않았을 때 이루어져야 하므로 else 블록에서 처리를 합니다."
   ]
  },
  {
   "cell_type": "code",
   "execution_count": null,
   "metadata": {},
   "outputs": [],
   "source": [
    "else:\n",
    "  try: \n",
    "    c = a / b\n",
    "  \n",
    "  except:\n",
    "    print(\"입력한 숫자를 확인해주세요\")\n",
    "\n",
    "  else: \n",
    "    print(f'{a} / {b} = {c}')\n",
    "\n",
    "  finally:\n",
    "    print(\"프로그램이 종료되었습니다.\")\n"
   ]
  },
  {
   "cell_type": "markdown",
   "metadata": {},
   "source": [
    "아래는 각 입력값에 대한 출력값입니다."
   ]
  },
  {
   "cell_type": "markdown",
   "metadata": {},
   "source": [
    "#### 입력값: abc 1\n",
    "\n",
    "숫자를 입력해주세요\n",
    "\n",
    "#### 입력값:  1 0\n",
    "\n",
    "입력한 숫자를 확인해주세요\n",
    "프로그램이 종료되었습니다.\n",
    "\n",
    "#### 입력값:  12 3\n",
    "\n",
    "12 / 3 = 4.0\n",
    "프로그램이 종료되었습니다."
   ]
  }
 ],
 "metadata": {
  "kernelspec": {
   "display_name": "Python 3",
   "language": "python",
   "name": "python3"
  },
  "language_info": {
   "codemirror_mode": {
    "name": "ipython",
    "version": 3
   },
   "file_extension": ".py",
   "mimetype": "text/x-python",
   "name": "python",
   "nbconvert_exporter": "python",
   "pygments_lexer": "ipython3",
   "version": "3.7.6"
  }
 },
 "nbformat": 4,
 "nbformat_minor": 4
}
